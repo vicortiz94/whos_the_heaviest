{
 "cells": [
  {
   "cell_type": "code",
   "execution_count": 7,
   "metadata": {},
   "outputs": [],
   "source": [
    "import datetime\n",
    "import pandas as pd\n",
    "import json\n",
    "import os"
   ]
  },
  {
   "cell_type": "code",
   "execution_count": 8,
   "metadata": {},
   "outputs": [],
   "source": [
    "def create_row(data):\n",
    "    the_row = {}\n",
    "    for i in data['participantIdentities']:\n",
    "        if i['player']['summonerName'] == 'Slickruic23':\n",
    "            the_row['pedro_there?'] = True\n",
    "\n",
    "        if i['player']['summonerName'] == 'Aorus Aznstroke':\n",
    "            the_row['john_there?'] = True\n",
    "\n",
    "        if i['player']['summonerName'] == 'Rendezvouz':\n",
    "            the_row['vu_there?'] = True\n",
    "\n",
    "        if i['player']['summonerName'] == 'datonenerd':\n",
    "            my_id = i['participantId']\n",
    "\n",
    "    for j in data['participants']:\n",
    "        if j['participantId'] == my_id:\n",
    "            the_row['win?'] = j['stats']['win']\n",
    "\n",
    "    the_row['gameMode'] = data['gameMode']\n",
    "\n",
    "    the_row['gameType'] = data['gameType']\n",
    "    \n",
    "    return the_row"
   ]
  },
  {
   "cell_type": "code",
   "execution_count": 9,
   "metadata": {},
   "outputs": [],
   "source": [
    "the_table = []\n",
    "for filename in os.listdir('../all_matches'):\n",
    "    \n",
    "    with open('../all_matches/%s' % filename) as json_file:\n",
    "        match_info = json.load(json_file)\n",
    "    \n",
    "    a_row = create_row(match_info)\n",
    "    the_table.append(a_row)\n",
    "    \n",
    "df = pd.DataFrame(the_table)"
   ]
  },
  {
   "cell_type": "code",
   "execution_count": 10,
   "metadata": {},
   "outputs": [
    {
     "data": {
      "text/html": [
       "<div>\n",
       "<style scoped>\n",
       "    .dataframe tbody tr th:only-of-type {\n",
       "        vertical-align: middle;\n",
       "    }\n",
       "\n",
       "    .dataframe tbody tr th {\n",
       "        vertical-align: top;\n",
       "    }\n",
       "\n",
       "    .dataframe thead th {\n",
       "        text-align: right;\n",
       "    }\n",
       "</style>\n",
       "<table border=\"1\" class=\"dataframe\">\n",
       "  <thead>\n",
       "    <tr style=\"text-align: right;\">\n",
       "      <th></th>\n",
       "      <th>win?</th>\n",
       "      <th>gameMode</th>\n",
       "      <th>gameType</th>\n",
       "      <th>pedro_there?</th>\n",
       "      <th>vu_there?</th>\n",
       "      <th>john_there?</th>\n",
       "    </tr>\n",
       "  </thead>\n",
       "  <tbody>\n",
       "    <tr>\n",
       "      <th>0</th>\n",
       "      <td>False</td>\n",
       "      <td>ARAM</td>\n",
       "      <td>MATCHED_GAME</td>\n",
       "      <td>NaN</td>\n",
       "      <td>NaN</td>\n",
       "      <td>NaN</td>\n",
       "    </tr>\n",
       "    <tr>\n",
       "      <th>1</th>\n",
       "      <td>False</td>\n",
       "      <td>ARAM</td>\n",
       "      <td>MATCHED_GAME</td>\n",
       "      <td>NaN</td>\n",
       "      <td>NaN</td>\n",
       "      <td>NaN</td>\n",
       "    </tr>\n",
       "    <tr>\n",
       "      <th>2</th>\n",
       "      <td>False</td>\n",
       "      <td>ONEFORALL</td>\n",
       "      <td>MATCHED_GAME</td>\n",
       "      <td>NaN</td>\n",
       "      <td>NaN</td>\n",
       "      <td>NaN</td>\n",
       "    </tr>\n",
       "    <tr>\n",
       "      <th>3</th>\n",
       "      <td>False</td>\n",
       "      <td>ARAM</td>\n",
       "      <td>MATCHED_GAME</td>\n",
       "      <td>NaN</td>\n",
       "      <td>NaN</td>\n",
       "      <td>NaN</td>\n",
       "    </tr>\n",
       "    <tr>\n",
       "      <th>4</th>\n",
       "      <td>False</td>\n",
       "      <td>ARAM</td>\n",
       "      <td>MATCHED_GAME</td>\n",
       "      <td>NaN</td>\n",
       "      <td>NaN</td>\n",
       "      <td>NaN</td>\n",
       "    </tr>\n",
       "    <tr>\n",
       "      <th>...</th>\n",
       "      <td>...</td>\n",
       "      <td>...</td>\n",
       "      <td>...</td>\n",
       "      <td>...</td>\n",
       "      <td>...</td>\n",
       "      <td>...</td>\n",
       "    </tr>\n",
       "    <tr>\n",
       "      <th>774</th>\n",
       "      <td>True</td>\n",
       "      <td>ARAM</td>\n",
       "      <td>MATCHED_GAME</td>\n",
       "      <td>NaN</td>\n",
       "      <td>True</td>\n",
       "      <td>NaN</td>\n",
       "    </tr>\n",
       "    <tr>\n",
       "      <th>775</th>\n",
       "      <td>True</td>\n",
       "      <td>ARAM</td>\n",
       "      <td>MATCHED_GAME</td>\n",
       "      <td>True</td>\n",
       "      <td>True</td>\n",
       "      <td>NaN</td>\n",
       "    </tr>\n",
       "    <tr>\n",
       "      <th>776</th>\n",
       "      <td>False</td>\n",
       "      <td>ARAM</td>\n",
       "      <td>MATCHED_GAME</td>\n",
       "      <td>NaN</td>\n",
       "      <td>NaN</td>\n",
       "      <td>NaN</td>\n",
       "    </tr>\n",
       "    <tr>\n",
       "      <th>777</th>\n",
       "      <td>False</td>\n",
       "      <td>ARAM</td>\n",
       "      <td>MATCHED_GAME</td>\n",
       "      <td>NaN</td>\n",
       "      <td>NaN</td>\n",
       "      <td>NaN</td>\n",
       "    </tr>\n",
       "    <tr>\n",
       "      <th>778</th>\n",
       "      <td>False</td>\n",
       "      <td>ARAM</td>\n",
       "      <td>MATCHED_GAME</td>\n",
       "      <td>NaN</td>\n",
       "      <td>NaN</td>\n",
       "      <td>NaN</td>\n",
       "    </tr>\n",
       "  </tbody>\n",
       "</table>\n",
       "<p>779 rows × 6 columns</p>\n",
       "</div>"
      ],
      "text/plain": [
       "      win?   gameMode      gameType pedro_there? vu_there? john_there?\n",
       "0    False       ARAM  MATCHED_GAME          NaN       NaN         NaN\n",
       "1    False       ARAM  MATCHED_GAME          NaN       NaN         NaN\n",
       "2    False  ONEFORALL  MATCHED_GAME          NaN       NaN         NaN\n",
       "3    False       ARAM  MATCHED_GAME          NaN       NaN         NaN\n",
       "4    False       ARAM  MATCHED_GAME          NaN       NaN         NaN\n",
       "..     ...        ...           ...          ...       ...         ...\n",
       "774   True       ARAM  MATCHED_GAME          NaN      True         NaN\n",
       "775   True       ARAM  MATCHED_GAME         True      True         NaN\n",
       "776  False       ARAM  MATCHED_GAME          NaN       NaN         NaN\n",
       "777  False       ARAM  MATCHED_GAME          NaN       NaN         NaN\n",
       "778  False       ARAM  MATCHED_GAME          NaN       NaN         NaN\n",
       "\n",
       "[779 rows x 6 columns]"
      ]
     },
     "execution_count": 10,
     "metadata": {},
     "output_type": "execute_result"
    }
   ],
   "source": [
    "df"
   ]
  },
  {
   "cell_type": "code",
   "execution_count": 11,
   "metadata": {},
   "outputs": [
    {
     "data": {
      "text/plain": [
       "array(['ARAM', 'ONEFORALL', 'CLASSIC', 'URF', 'NEXUSBLITZ'], dtype=object)"
      ]
     },
     "execution_count": 11,
     "metadata": {},
     "output_type": "execute_result"
    }
   ],
   "source": [
    "df.gameMode.unique()"
   ]
  },
  {
   "cell_type": "code",
   "execution_count": 12,
   "metadata": {},
   "outputs": [
    {
     "data": {
      "text/plain": [
       "array(['MATCHED_GAME'], dtype=object)"
      ]
     },
     "execution_count": 12,
     "metadata": {},
     "output_type": "execute_result"
    }
   ],
   "source": [
    "df.gameType.unique()"
   ]
  },
  {
   "cell_type": "code",
   "execution_count": 13,
   "metadata": {},
   "outputs": [],
   "source": [
    "df = df[df['gameMode'] == 'ARAM']"
   ]
  },
  {
   "cell_type": "code",
   "execution_count": 14,
   "metadata": {},
   "outputs": [
    {
     "data": {
      "text/plain": [
       "array(['ARAM'], dtype=object)"
      ]
     },
     "execution_count": 14,
     "metadata": {},
     "output_type": "execute_result"
    }
   ],
   "source": [
    "df.gameMode.unique()"
   ]
  },
  {
   "cell_type": "code",
   "execution_count": 20,
   "metadata": {},
   "outputs": [],
   "source": [
    "df_losses = df[df['win?'] == False]\n",
    "df_win = df[df['win?'] == True]"
   ]
  },
  {
   "cell_type": "code",
   "execution_count": 16,
   "metadata": {},
   "outputs": [
    {
     "data": {
      "text/html": [
       "<div>\n",
       "<style scoped>\n",
       "    .dataframe tbody tr th:only-of-type {\n",
       "        vertical-align: middle;\n",
       "    }\n",
       "\n",
       "    .dataframe tbody tr th {\n",
       "        vertical-align: top;\n",
       "    }\n",
       "\n",
       "    .dataframe thead th {\n",
       "        text-align: right;\n",
       "    }\n",
       "</style>\n",
       "<table border=\"1\" class=\"dataframe\">\n",
       "  <thead>\n",
       "    <tr style=\"text-align: right;\">\n",
       "      <th></th>\n",
       "      <th>win?</th>\n",
       "      <th>gameMode</th>\n",
       "      <th>gameType</th>\n",
       "      <th>pedro_there?</th>\n",
       "      <th>vu_there?</th>\n",
       "      <th>john_there?</th>\n",
       "    </tr>\n",
       "  </thead>\n",
       "  <tbody>\n",
       "    <tr>\n",
       "      <th>0</th>\n",
       "      <td>False</td>\n",
       "      <td>ARAM</td>\n",
       "      <td>MATCHED_GAME</td>\n",
       "      <td>NaN</td>\n",
       "      <td>NaN</td>\n",
       "      <td>NaN</td>\n",
       "    </tr>\n",
       "    <tr>\n",
       "      <th>1</th>\n",
       "      <td>False</td>\n",
       "      <td>ARAM</td>\n",
       "      <td>MATCHED_GAME</td>\n",
       "      <td>NaN</td>\n",
       "      <td>NaN</td>\n",
       "      <td>NaN</td>\n",
       "    </tr>\n",
       "    <tr>\n",
       "      <th>3</th>\n",
       "      <td>False</td>\n",
       "      <td>ARAM</td>\n",
       "      <td>MATCHED_GAME</td>\n",
       "      <td>NaN</td>\n",
       "      <td>NaN</td>\n",
       "      <td>NaN</td>\n",
       "    </tr>\n",
       "    <tr>\n",
       "      <th>4</th>\n",
       "      <td>False</td>\n",
       "      <td>ARAM</td>\n",
       "      <td>MATCHED_GAME</td>\n",
       "      <td>NaN</td>\n",
       "      <td>NaN</td>\n",
       "      <td>NaN</td>\n",
       "    </tr>\n",
       "    <tr>\n",
       "      <th>5</th>\n",
       "      <td>False</td>\n",
       "      <td>ARAM</td>\n",
       "      <td>MATCHED_GAME</td>\n",
       "      <td>NaN</td>\n",
       "      <td>NaN</td>\n",
       "      <td>NaN</td>\n",
       "    </tr>\n",
       "    <tr>\n",
       "      <th>...</th>\n",
       "      <td>...</td>\n",
       "      <td>...</td>\n",
       "      <td>...</td>\n",
       "      <td>...</td>\n",
       "      <td>...</td>\n",
       "      <td>...</td>\n",
       "    </tr>\n",
       "    <tr>\n",
       "      <th>772</th>\n",
       "      <td>False</td>\n",
       "      <td>ARAM</td>\n",
       "      <td>MATCHED_GAME</td>\n",
       "      <td>True</td>\n",
       "      <td>True</td>\n",
       "      <td>NaN</td>\n",
       "    </tr>\n",
       "    <tr>\n",
       "      <th>773</th>\n",
       "      <td>False</td>\n",
       "      <td>ARAM</td>\n",
       "      <td>MATCHED_GAME</td>\n",
       "      <td>True</td>\n",
       "      <td>True</td>\n",
       "      <td>NaN</td>\n",
       "    </tr>\n",
       "    <tr>\n",
       "      <th>776</th>\n",
       "      <td>False</td>\n",
       "      <td>ARAM</td>\n",
       "      <td>MATCHED_GAME</td>\n",
       "      <td>NaN</td>\n",
       "      <td>NaN</td>\n",
       "      <td>NaN</td>\n",
       "    </tr>\n",
       "    <tr>\n",
       "      <th>777</th>\n",
       "      <td>False</td>\n",
       "      <td>ARAM</td>\n",
       "      <td>MATCHED_GAME</td>\n",
       "      <td>NaN</td>\n",
       "      <td>NaN</td>\n",
       "      <td>NaN</td>\n",
       "    </tr>\n",
       "    <tr>\n",
       "      <th>778</th>\n",
       "      <td>False</td>\n",
       "      <td>ARAM</td>\n",
       "      <td>MATCHED_GAME</td>\n",
       "      <td>NaN</td>\n",
       "      <td>NaN</td>\n",
       "      <td>NaN</td>\n",
       "    </tr>\n",
       "  </tbody>\n",
       "</table>\n",
       "<p>351 rows × 6 columns</p>\n",
       "</div>"
      ],
      "text/plain": [
       "      win? gameMode      gameType pedro_there? vu_there? john_there?\n",
       "0    False     ARAM  MATCHED_GAME          NaN       NaN         NaN\n",
       "1    False     ARAM  MATCHED_GAME          NaN       NaN         NaN\n",
       "3    False     ARAM  MATCHED_GAME          NaN       NaN         NaN\n",
       "4    False     ARAM  MATCHED_GAME          NaN       NaN         NaN\n",
       "5    False     ARAM  MATCHED_GAME          NaN       NaN         NaN\n",
       "..     ...      ...           ...          ...       ...         ...\n",
       "772  False     ARAM  MATCHED_GAME         True      True         NaN\n",
       "773  False     ARAM  MATCHED_GAME         True      True         NaN\n",
       "776  False     ARAM  MATCHED_GAME          NaN       NaN         NaN\n",
       "777  False     ARAM  MATCHED_GAME          NaN       NaN         NaN\n",
       "778  False     ARAM  MATCHED_GAME          NaN       NaN         NaN\n",
       "\n",
       "[351 rows x 6 columns]"
      ]
     },
     "execution_count": 16,
     "metadata": {},
     "output_type": "execute_result"
    }
   ],
   "source": [
    "df_losses"
   ]
  },
  {
   "cell_type": "code",
   "execution_count": 19,
   "metadata": {},
   "outputs": [
    {
     "data": {
      "text/plain": [
       "win?            351\n",
       "gameMode        351\n",
       "gameType        351\n",
       "pedro_there?    145\n",
       "vu_there?       169\n",
       "john_there?      15\n",
       "dtype: int64"
      ]
     },
     "execution_count": 19,
     "metadata": {},
     "output_type": "execute_result"
    }
   ],
   "source": [
    "df_losses.count()"
   ]
  },
  {
   "cell_type": "code",
   "execution_count": 21,
   "metadata": {},
   "outputs": [
    {
     "data": {
      "text/plain": [
       "win?            351\n",
       "gameMode        351\n",
       "gameType        351\n",
       "pedro_there?    134\n",
       "vu_there?       189\n",
       "john_there?      23\n",
       "dtype: int64"
      ]
     },
     "execution_count": 21,
     "metadata": {},
     "output_type": "execute_result"
    }
   ],
   "source": [
    "df_win.count()"
   ]
  },
  {
   "cell_type": "code",
   "execution_count": null,
   "metadata": {},
   "outputs": [],
   "source": []
  }
 ],
 "metadata": {
  "kernelspec": {
   "display_name": "Python 3",
   "language": "python",
   "name": "python3"
  },
  "language_info": {
   "codemirror_mode": {
    "name": "ipython",
    "version": 3
   },
   "file_extension": ".py",
   "mimetype": "text/x-python",
   "name": "python",
   "nbconvert_exporter": "python",
   "pygments_lexer": "ipython3",
   "version": "3.8.5"
  }
 },
 "nbformat": 4,
 "nbformat_minor": 4
}
