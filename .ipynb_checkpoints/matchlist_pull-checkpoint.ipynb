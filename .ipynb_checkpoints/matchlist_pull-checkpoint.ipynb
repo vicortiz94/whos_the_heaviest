{
 "cells": [
  {
   "cell_type": "markdown",
   "metadata": {},
   "source": [
    "# Matchlist pull"
   ]
  },
  {
   "cell_type": "markdown",
   "metadata": {},
   "source": [
    "We're going to grab the list of all games I've played since April 1st, 2020 to ____"
   ]
  },
  {
   "cell_type": "code",
   "execution_count": 1,
   "metadata": {},
   "outputs": [
    {
     "name": "stdout",
     "output_type": "stream",
     "text": [
      "{'id': '_rHD5d-tZc_tQybEIBbzRTpfm7y9pbLJj3vRJwI1yGYgxm0', 'accountId': 'VPrHPXg5war-m1T-gdEWjvoPAD2trhAmuNTXOvRRX5KHsg', 'puuid': '1Ky1O7uyzN4aNqWGm1ZLMZrVwl6cqdY6_IL3NevgNw9jDxMUi8Lq0Bi9bl6BBRoJPQmjqfeQKN_lZg', 'name': 'datonenerd', 'profileIconId': 588, 'revisionDate': 1618623874000, 'summonerLevel': 130}\n"
     ]
    }
   ],
   "source": [
    "from riotwatcher import LolWatcher, ApiError\n",
    "import datetime\n",
    "api_key = ''\n",
    "lol_watcher = LolWatcher(api_key)\n",
    "\n",
    "my_region = 'na1'\n",
    "\n",
    "me = lol_watcher.summoner.by_name(my_region, 'datonenerd')\n",
    "\n",
    "my_matches = lol_watcher.match.matchlist_by_account(my_region, me['accountId'], begin_index = 0)"
   ]
  },
  {
   "cell_type": "code",
   "execution_count": 2,
   "metadata": {},
   "outputs": [],
   "source": [
    "my_matches = lol_watcher.match.matchlist_by_account(my_region, me['accountId'], begin_index = 0)"
   ]
  },
  {
   "cell_type": "code",
   "execution_count": 4,
   "metadata": {},
   "outputs": [
    {
     "data": {
      "text/plain": [
       "dict_keys(['matches', 'startIndex', 'endIndex', 'totalGames'])"
      ]
     },
     "execution_count": 4,
     "metadata": {},
     "output_type": "execute_result"
    }
   ],
   "source": [
    "my_matches.keys()"
   ]
  },
  {
   "cell_type": "code",
   "execution_count": 5,
   "metadata": {},
   "outputs": [
    {
     "data": {
      "text/plain": [
       "100"
      ]
     },
     "execution_count": 5,
     "metadata": {},
     "output_type": "execute_result"
    }
   ],
   "source": [
    "my_matches['endIndex']"
   ]
  },
  {
   "cell_type": "code",
   "execution_count": 10,
   "metadata": {},
   "outputs": [],
   "source": [
    "da_time = my_matches['matches'][-1]['timestamp']"
   ]
  },
  {
   "cell_type": "code",
   "execution_count": 11,
   "metadata": {},
   "outputs": [
    {
     "name": "stdout",
     "output_type": "stream",
     "text": [
      "2021-03-13 20:05:26.105000\n"
     ]
    }
   ],
   "source": [
    "random_var = datetime.datetime.fromtimestamp(da_time/1000)\n",
    "print(random_var)"
   ]
  },
  {
   "cell_type": "code",
   "execution_count": 13,
   "metadata": {},
   "outputs": [
    {
     "name": "stdout",
     "output_type": "stream",
     "text": [
      "2020-04-01 15:01:48\n"
     ]
    }
   ],
   "source": [
    "special_time = 1585778508000/1000\n",
    "end_mark = datetime.datetime.fromtimestamp(special_time)\n",
    "print(end_mark)"
   ]
  },
  {
   "cell_type": "code",
   "execution_count": null,
   "metadata": {},
   "outputs": [],
   "source": []
  }
 ],
 "metadata": {
  "kernelspec": {
   "display_name": "Python 3",
   "language": "python",
   "name": "python3"
  },
  "language_info": {
   "codemirror_mode": {
    "name": "ipython",
    "version": 3
   },
   "file_extension": ".py",
   "mimetype": "text/x-python",
   "name": "python",
   "nbconvert_exporter": "python",
   "pygments_lexer": "ipython3",
   "version": "3.8.5"
  }
 },
 "nbformat": 4,
 "nbformat_minor": 4
}
