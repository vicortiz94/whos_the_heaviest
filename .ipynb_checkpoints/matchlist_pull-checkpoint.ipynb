{
 "cells": [
  {
   "cell_type": "markdown",
   "metadata": {},
   "source": [
    "# Matchlist pull"
   ]
  },
  {
   "cell_type": "markdown",
   "metadata": {},
   "source": [
    "We're going to grab the list of all games I've played since April 1st, 2020 to ____\n",
    "\n",
    "To start, We're going to first get my id."
   ]
  },
  {
   "cell_type": "code",
   "execution_count": 1,
   "metadata": {},
   "outputs": [],
   "source": [
    "from riotwatcher import LolWatcher, ApiError\n",
    "import datetime\n",
    "import json\n",
    "import time\n",
    "\n",
    "api_key = ''\n",
    "\n",
    "#lol_watcher is a wrapper for the Riot API\n",
    "lol_watcher = LolWatcher(api_key)\n",
    "\n",
    "#the servers are split into different regions. na1 signifies North America\n",
    "my_region = 'na1'\n",
    "\n",
    "#I'm grabbing information about myself, specifically my unique id\n",
    "me = lol_watcher.summoner.by_name(my_region, 'datonenerd')\n",
    "my_id = me['accountId']"
   ]
  },
  {
   "cell_type": "markdown",
   "metadata": {},
   "source": [
    "We now want to grab my match history starting from April 1st, 2020. In theory, there is an easy way to grab that information; You can set a start time and end time and grab all the matches in-between those two times. However, the api doesn't allow for more than 100 matches to be recorded at one time. Therefore, we'll be grabbing game data is 100 match chunks. Once it see's a date that is older that April 1st, 2020, the loop will end."
   ]
  },
  {
   "cell_type": "code",
   "execution_count": 2,
   "metadata": {},
   "outputs": [],
   "source": [
    "ending_time = 1585778508000\n",
    "keeploop = True\n",
    "begin = 0\n",
    "count = 0\n",
    "\n",
    "while keeploop:\n",
    "    #this will grab a list of 100 matches i've played. These items are only basic infor about the match, so we'll be using the\n",
    "    #match id's from this list to get in-depth information about each match\n",
    "    my_matches = lol_watcher.match.matchlist_by_account(my_region, me['accountId'], begin_index = begin)\n",
    "    \n",
    "    #i'll save this info into a JSON file\n",
    "    n = str(begin)\n",
    "    f_n = '%s_matchlist.json'% n\n",
    "    with open(f_n, \"w\") as outfile: \n",
    "        json.dump(my_matches, outfile)\n",
    "    \n",
    "    #if we've gone past our end time, the program will end\n",
    "    if my_matches['matches'][-1]['timestamp'] < ending_time:\n",
    "        keeploop = False\n",
    "    \n",
    "    begin += 100\n",
    "    count += 1\n",
    "    \n",
    "    #We have request limits, so this will keep us within those limits\n",
    "    if count % 18 == 0:\n",
    "            time.sleep(1)\n",
    "\n",
    "    if count % 195 == 0:\n",
    "            time.sleep(120)\n",
    "    \n",
    "    "
   ]
  }
 ],
 "metadata": {
  "kernelspec": {
   "display_name": "Python 3",
   "language": "python",
   "name": "python3"
  },
  "language_info": {
   "codemirror_mode": {
    "name": "ipython",
    "version": 3
   },
   "file_extension": ".py",
   "mimetype": "text/x-python",
   "name": "python",
   "nbconvert_exporter": "python",
   "pygments_lexer": "ipython3",
   "version": "3.8.5"
  }
 },
 "nbformat": 4,
 "nbformat_minor": 4
}
